{
 "cells": [
  {
   "cell_type": "markdown",
   "metadata": {},
   "source": [
    "# 第3章: 正規表現"
   ]
  },
  {
   "cell_type": "code",
   "execution_count": 1,
   "metadata": {},
   "outputs": [
    {
     "name": "stdout",
     "output_type": "stream",
     "text": [
      "--2021-01-10 23:59:40--  https://nlp100.github.io/data/jawiki-country.json.gz\n",
      "Resolving nlp100.github.io (nlp100.github.io)... 185.199.108.153, 185.199.111.153, 185.199.109.153, ...\n",
      "Connecting to nlp100.github.io (nlp100.github.io)|185.199.108.153|:443... connected.\n",
      "HTTP request sent, awaiting response... 200 OK\n",
      "Length: 5068362 (4.8M) [application/gzip]\n",
      "Saving to: ‘jawiki-country.json.gz’\n",
      "\n",
      "jawiki-country.json 100%[===================>]   4.83M  4.05MB/s    in 1.2s    \n",
      "\n",
      "2021-01-10 23:59:43 (4.05 MB/s) - ‘jawiki-country.json.gz’ saved [5068362/5068362]\n",
      "\n"
     ]
    }
   ],
   "source": [
    "!wget https://nlp100.github.io/data/jawiki-country.json.gz\n",
    "!gunzip ./jawiki-country.json.gz"
   ]
  },
  {
   "cell_type": "code",
   "execution_count": 1,
   "metadata": {},
   "outputs": [],
   "source": [
    "!mecab -o ./neko.txt.mecab ./neko.txt"
   ]
  },
  {
   "cell_type": "code",
   "execution_count": null,
   "metadata": {},
   "outputs": [],
   "source": []
  }
 ],
 "metadata": {
  "kernelspec": {
   "display_name": "Python 3",
   "language": "python",
   "name": "python3"
  },
  "language_info": {
   "codemirror_mode": {
    "name": "ipython",
    "version": 3
   },
   "file_extension": ".py",
   "mimetype": "text/x-python",
   "name": "python",
   "nbconvert_exporter": "python",
   "pygments_lexer": "ipython3",
   "version": "3.8.5"
  }
 },
 "nbformat": 4,
 "nbformat_minor": 4
}
