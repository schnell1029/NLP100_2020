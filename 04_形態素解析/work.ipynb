{
 "cells": [
  {
   "cell_type": "code",
   "execution_count": 15,
   "metadata": {},
   "outputs": [],
   "source": [
    "from pathlib import Path"
   ]
  },
  {
   "cell_type": "markdown",
   "metadata": {},
   "source": [
    "## 形態素解析結果の読み込み"
   ]
  },
  {
   "cell_type": "code",
   "execution_count": 16,
   "metadata": {},
   "outputs": [
    {
     "name": "stdout",
     "output_type": "stream",
     "text": [
      "{'surface': '吾輩', 'base': '吾輩', 'pos': '名詞', 'pos1': '代名詞'}\n",
      "{'surface': 'は', 'base': 'は', 'pos': '助詞', 'pos1': '係助詞'}\n",
      "{'surface': '猫', 'base': '猫', 'pos': '名詞', 'pos1': '一般'}\n",
      "{'surface': 'で', 'base': 'だ', 'pos': '助動詞', 'pos1': '*'}\n",
      "{'surface': 'ある', 'base': 'ある', 'pos': '助動詞', 'pos1': '*'}\n",
      "{'surface': '。', 'base': '。', 'pos': '記号', 'pos1': '句点'}\n"
     ]
    }
   ],
   "source": [
    "res_mecab = Path(\"neko.txt.mecab\")\n",
    "sentences = []\n",
    "morphs = []\n",
    "\n",
    "with res_mecab.open() as file:\n",
    "  for line in file:\n",
    "    line = line.strip()\n",
    "    if line != \"EOS\":\n",
    "      fields = line.split(\"\\t\")\n",
    "      if len(fields) != 2 or fields[0] == \"\": continue\n",
    "      col = fields[1].split(\",\")\n",
    "      morph = {\"surface\": fields[0], \"base\": col[6], \"pos\": col[0], \"pos1\": col[1]}\n",
    "      morphs.append(morph)\n",
    "    else:\n",
    "      sentences.append(morphs)\n",
    "      morphs = []\n",
    "for morph in sentences[2]:\n",
    "  print(morph)"
   ]
  },
  {
   "cell_type": "markdown",
   "metadata": {},
   "source": [
    "## 動詞と動詞の基本形の抜き出し"
   ]
  },
  {
   "cell_type": "code",
   "execution_count": 17,
   "metadata": {},
   "outputs": [],
   "source": [
    "verbs = set(morph[\"surface\"] for morphs in sentences for morph in morphs\n",
    "            if morph[\"pos\"] == \"動詞\")\n",
    "verb_bases = set(morph[\"base\"] for morphs in sentences for morph in morphs\n",
    "                 if morph[\"pos\"] == \"動詞\")"
   ]
  },
  {
   "cell_type": "markdown",
   "metadata": {},
   "source": [
    "## AのBという形の名詞句を抜き出し"
   ]
  },
  {
   "cell_type": "code",
   "execution_count": 18,
   "metadata": {},
   "outputs": [
    {
     "name": "stdout",
     "output_type": "stream",
     "text": [
      "4924\n",
      "俺の汁粉\n",
      "人間の嗜好\n",
      "嬢の鼻\n",
      "令嬢の鼻\n",
      "自分の社会\n",
      "御存じの事\n",
      "窟の主人\n",
      "他の動物\n",
      "取りの次\n",
      "心臓の形\n"
     ]
    }
   ],
   "source": [
    "ans = set()\n",
    "for sentence in sentences:\n",
    "  for i in range(1, len(sentence)-2):\n",
    "    if  sentence[i][\"surface\"] == \"の\" and sentence[i-1][\"pos\"] == \"名詞\" and sentence[i+1][\"pos\"] == \"名詞\":\n",
    "      s = sentence[i-1][\"surface\"] + sentence[i][\"surface\"] + sentence[i+1][\"surface\"]\n",
    "      ans.add(s)\n",
    "print(len(ans))\n",
    "for item in list(ans)[:10]:\n",
    "  print(item)"
   ]
  },
  {
   "cell_type": "markdown",
   "metadata": {},
   "source": [
    "## 名詞の連接"
   ]
  },
  {
   "cell_type": "code",
   "execution_count": 19,
   "metadata": {},
   "outputs": [
    {
     "name": "stdout",
     "output_type": "stream",
     "text": [
      "4465\n",
      "東嶺寺\n",
      "裸体動物\n",
      "めん子さん\n",
      "生涯三鞭酒\n",
      "運動術\n",
      "豚仙さ\n",
      "兎さん\n",
      "多角形\n",
      "長州征伐\n",
      "俳人高浜虚子\n"
     ]
    }
   ],
   "source": [
    "ans = set()\n",
    "tmp = []\n",
    "for sentence in sentences:\n",
    "  for morph in sentence:\n",
    "    if morph[\"pos\"] == \"名詞\":\n",
    "      tmp.append(morph[\"surface\"])\n",
    "    elif len(tmp) >=2:\n",
    "      ans.add(\"\".join(tmp))\n",
    "      tmp = []\n",
    "    else:\n",
    "      tmp = []\n",
    "print(len(ans))\n",
    "for item in list(ans)[:10]:\n",
    "  print(item)"
   ]
  },
  {
   "cell_type": "markdown",
   "metadata": {},
   "source": [
    "## 単語の出現頻度"
   ]
  },
  {
   "cell_type": "code",
   "execution_count": 20,
   "metadata": {},
   "outputs": [
    {
     "data": {
      "image/png": "[encoded data removed]",
      "text/plain": [
       "<Figure size 432x288 with 1 Axes>"
      ]
     },
     "metadata": {
      "needs_background": "light"
     },
     "output_type": "display_data"
    }
   ],
   "source": [
    "from collections import defaultdict as ddict\n",
    "\n",
    "import matplotlib.pyplot as plt\n",
    "from matplotlib import rcParams\n",
    "rcParams['font.sans-serif'] = ['Hiragino Maru Gothic Pro']\n",
    "\n",
    "word_dic = ddict(int)\n",
    "\n",
    "for sentence in sentences:\n",
    "  for morph in sentence:\n",
    "    if morph[\"pos\"] not in [\"記号\", \"助詞\", \"助動詞\"]:\n",
    "      word_dic[morph[\"surface\"]] += 1\n",
    "\n",
    "word_dic = sorted(word_dic.items(), key=lambda x:x[1], reverse=True)\n",
    "\n",
    "keys = [k for k,_ in word_dic[:10]]\n",
    "values = [v for _,v in word_dic[:10]]\n",
    "\n",
    "plt.bar(keys, values)\n",
    "plt.show()"
   ]
  },
  {
   "cell_type": "markdown",
   "metadata": {},
   "source": [
    "## 猫と共起頻度の高い語"
   ]
  },
  {
   "cell_type": "code",
   "execution_count": 21,
   "metadata": {},
   "outputs": [
    {
     "data": {
      "image/png": "[encoded data removed]",
      "text/plain": [
       "<Figure size 432x288 with 1 Axes>"
      ]
     },
     "metadata": {
      "needs_background": "dark"
     },
     "output_type": "display_data"
    }
   ],
   "source": [
    "from collections import defaultdict as ddict\n",
    "\n",
    "import matplotlib.pyplot as plt\n",
    "from matplotlib import rcParams\n",
    "rcParams['font.sans-serif'] = ['Hiragino Maru Gothic Pro']\n",
    "plt.tick_params(colors='white')\n",
    "\n",
    "word_dic = ddict(int)\n",
    "\n",
    "for i, sentence in enumerate(sentences):\n",
    "  # if i == 5: break\n",
    "  word_list = [morph[\"surface\"] for morph in sentence\n",
    "               if morph[\"pos\"] in [\"動詞\", \"名詞\", \"形容詞\"]]\n",
    "  if \"猫\" in word_list:\n",
    "    for word in word_list:\n",
    "      if word != \"猫\":\n",
    "        word_dic[word] += 1\n",
    "word_dic = sorted(word_dic.items(), key= lambda x:x[1], reverse=True)\n",
    "keys = [k for k,_ in word_dic[:10]]\n",
    "values = [v for _,v in word_dic[:10]]\n",
    "\n",
    "plt.bar(keys, values)\n",
    "plt.show()"
   ]
  },
  {
   "cell_type": "markdown",
   "metadata": {},
   "source": [
    "## ヒストグラム\n",
    "ヒストグラムは階級の幅によりデータの見え方が変わる。\n",
    "目安として以下のスタージュの公式が参考になる。\n",
    "$$\n",
    "N = 1 + \\log_2{n}\n",
    "$$\n",
    "今回はデータ数が13559となったので上の公式に当てはめると、階級数は$N \\simeq 15$が目安となる。"
   ]
  },
  {
   "cell_type": "code",
   "execution_count": 97,
   "metadata": {},
   "outputs": [
    {
     "data": {
      "image/png": "[encoded data removed]",
      "text/plain": [
       "<Figure size 1440x576 with 2 Axes>"
      ]
     },
     "metadata": {},
     "output_type": "display_data"
    }
   ],
   "source": [
    "from collections import defaultdict as ddict\n",
    "\n",
    "import matplotlib.pyplot as plt\n",
    "from matplotlib import rcParams\n",
    "rcParams['font.sans-serif'] = ['Hiragino Maru Gothic Pro']\n",
    "\n",
    "word_dic = ddict(int)\n",
    "\n",
    "for sentence in sentences:\n",
    "  for morph in sentence:\n",
    "    if morph[\"pos\"] not in [\"記号\"]:\n",
    "      word_dic[morph[\"surface\"]] += 1\n",
    "\n",
    "ans = word_dic.values()\n",
    "\n",
    "fig = plt.figure(figsize=(20,8))\n",
    "fig.set_facecolor('white')\n",
    "\n",
    "ax1 = fig.add_subplot(1,2,1)\n",
    "ax1.hist(ans, bins=15)\n",
    "ax1.set_xlabel(\"単語の出現頻度(件)\")\n",
    "ax1.set_ylabel(\"単語の種類(個)\")\n",
    "ax1.set_title(\"階級数15\")\n",
    "\n",
    "ax2 = fig.add_subplot(1,2,2)\n",
    "ax2.hist(ans, range=(1,10))\n",
    "ax2.set_xlabel(\"単語の出現頻度(件)\")\n",
    "ax2.set_ylabel(\"単語の種類(個)\")\n",
    "ax2.set_title(\"度数を[1,10]に限定\")\n",
    "\n",
    "plt.show()"
   ]
  },
  {
   "cell_type": "code",
   "execution_count": 111,
   "metadata": {},
   "outputs": [
    {
     "data": {
      "image/png": "[encoded data removed]",
      "text/plain": [
       "<Figure size 432x288 with 1 Axes>"
      ]
     },
     "metadata": {
      "needs_background": "light"
     },
     "output_type": "display_data"
    }
   ],
   "source": [
    "import numpy as np\n",
    "\n",
    "ans = np.array(list(ans))\n",
    "Y = np.sort(ans)[::-1]\n",
    "X = range(1,len(ans)+1)\n",
    "\n",
    "Y = np.log10(Y)\n",
    "X = np.log10(X)\n",
    "\n",
    "fig = plt.figure()\n",
    "axes = fig.add_subplot(111)\n",
    "axes.plot(X,Y)\n",
    "plt.show()"
   ]
  },
  {
   "cell_type": "code",
   "execution_count": 107,
   "metadata": {},
   "outputs": [
    {
     "data": {
      "text/plain": [
       "array([9194, 6868, 6420, ...,    1,    1,    1])"
      ]
     },
     "execution_count": 107,
     "metadata": {},
     "output_type": "execute_result"
    }
   ],
   "source": [
    "Y"
   ]
  },
  {
   "cell_type": "code",
   "execution_count": null,
   "metadata": {},
   "outputs": [],
   "source": []
  }
 ],
 "metadata": {
  "interpreter": {
   "hash": "9d025cef11569066d47cefd94875d4dcceaff9eef0516e87b06845fa64e34ab6"
  },
  "kernelspec": {
   "display_name": "Python 3.9.9 64-bit ('venv': venv)",
   "language": "python",
   "name": "python3"
  },
  "language_info": {
   "codemirror_mode": {
    "name": "ipython",
    "version": 3
   },
   "file_extension": ".py",
   "mimetype": "text/x-python",
   "name": "python",
   "nbconvert_exporter": "python",
   "pygments_lexer": "ipython3",
   "version": "3.9.9"
  },
  "orig_nbformat": 4
 },
 "nbformat": 4,
 "nbformat_minor": 2
}
