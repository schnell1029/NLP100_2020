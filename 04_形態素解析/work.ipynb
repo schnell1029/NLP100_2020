{
 "cells": [
  {
   "cell_type": "code",
   "execution_count": 4,
   "metadata": {},
   "outputs": [],
   "source": [
    "from pathlib import Path"
   ]
  },
  {
   "cell_type": "markdown",
   "metadata": {},
   "source": [
    "## 形態素解析結果の読み込み"
   ]
  },
  {
   "cell_type": "code",
   "execution_count": 18,
   "metadata": {},
   "outputs": [
    {
     "name": "stdout",
     "output_type": "stream",
     "text": [
      "{'surface': '吾輩', 'base': '吾輩', 'pos': '名詞', 'pos1': '代名詞'}\n",
      "{'surface': 'は', 'base': 'は', 'pos': '助詞', 'pos1': '係助詞'}\n",
      "{'surface': '猫', 'base': '猫', 'pos': '名詞', 'pos1': '一般'}\n",
      "{'surface': 'で', 'base': 'だ', 'pos': '助動詞', 'pos1': '*'}\n",
      "{'surface': 'ある', 'base': 'ある', 'pos': '助動詞', 'pos1': '*'}\n",
      "{'surface': '。', 'base': '。', 'pos': '記号', 'pos1': '句点'}\n"
     ]
    }
   ],
   "source": [
    "res_mecab = Path(\"neko.txt.mecab\")\n",
    "sentences = []\n",
    "morphs = []\n",
    "\n",
    "with res_mecab.open() as file:\n",
    "  for line in file:\n",
    "    line = line.strip()\n",
    "    if line != \"EOS\":\n",
    "      fields = line.split(\"\\t\")\n",
    "      if len(fields) != 2 or fields[0] == \"\": continue\n",
    "      col = fields[1].split(\",\")\n",
    "      morph = {\"surface\": fields[0], \"base\": col[6], \"pos\": col[0], \"pos1\": col[1]}\n",
    "      morphs.append(morph)\n",
    "    else:\n",
    "      sentences.append(morphs)\n",
    "      morphs = []\n",
    "for morph in sentences[2]:\n",
    "  print(morph)"
   ]
  },
  {
   "cell_type": "markdown",
   "metadata": {},
   "source": [
    "## 動詞と動詞の基本形の抜き出し"
   ]
  },
  {
   "cell_type": "code",
   "execution_count": 19,
   "metadata": {},
   "outputs": [
    {
     "name": "stdout",
     "output_type": "stream",
     "text": [
      "笑う\n",
      "よす\n",
      "安んずる\n",
      "収め\n",
      "借り\n"
     ]
    }
   ],
   "source": [
    "verbs = set(morph[\"surface\"] for morphs in sentences for morph in morphs\n",
    "            if morph[\"pos\"] == \"動詞\")\n",
    "verb_bases = set(morph[\"base\"] for morphs in sentences for morph in morphs\n",
    "                 if morph[\"pos\"] == \"動詞\")\n",
    "\n",
    "for i, verb in enumerate(verbs):\n",
    "  if i == 5: break\n",
    "  print(verb)"
   ]
  },
  {
   "cell_type": "code",
   "execution_count": 17,
   "metadata": {},
   "outputs": [
    {
     "name": "stdout",
     "output_type": "stream",
     "text": [
      "{'surface': '吾輩', 'base': '吾輩', 'pos': '名詞', 'pos1': '代名詞'}\n",
      "{'surface': 'は', 'base': 'は', 'pos': '助詞', 'pos1': '係助詞'}\n",
      "{'surface': '猫', 'base': '猫', 'pos': '名詞', 'pos1': '一般'}\n",
      "{'surface': 'で', 'base': 'だ', 'pos': '助動詞', 'pos1': '*'}\n",
      "{'surface': 'ある', 'base': 'ある', 'pos': '助動詞', 'pos1': '*'}\n",
      "{'surface': '。', 'base': '。', 'pos': '記号', 'pos1': '句点'}\n"
     ]
    }
   ],
   "source": [
    "# 笑う\n",
    "# よす\n",
    "# 安んずる\n",
    "# 収め\n",
    "# 借り"
   ]
  },
  {
   "cell_type": "code",
   "execution_count": null,
   "metadata": {},
   "outputs": [],
   "source": [
    "# {'surface': '吾輩', 'base': '吾輩', 'pos': '名詞', 'pos1': '代名詞'}\n",
    "# {'surface': 'は', 'base': 'は', 'pos': '助詞', 'pos1': '係助詞'}\n",
    "# {'surface': '猫', 'base': '猫', 'pos': '名詞', 'pos1': '一般'}\n",
    "# {'surface': 'で', 'base': 'だ', 'pos': '助動詞', 'pos1': '*'}\n",
    "# {'surface': 'ある', 'base': 'ある', 'pos': '助動詞', 'pos1': '*'}\n",
    "# {'surface': '。', 'base': '。', 'pos': '記号', 'pos1': '句点'}"
   ]
  }
 ],
 "metadata": {
  "interpreter": {
   "hash": "9d025cef11569066d47cefd94875d4dcceaff9eef0516e87b06845fa64e34ab6"
  },
  "kernelspec": {
   "display_name": "Python 3.9.9 64-bit ('venv': venv)",
   "language": "python",
   "name": "python3"
  },
  "language_info": {
   "codemirror_mode": {
    "name": "ipython",
    "version": 3
   },
   "file_extension": ".py",
   "mimetype": "text/x-python",
   "name": "python",
   "nbconvert_exporter": "python",
   "pygments_lexer": "ipython3",
   "version": "3.9.9"
  },
  "orig_nbformat": 4
 },
 "nbformat": 4,
 "nbformat_minor": 2
}
