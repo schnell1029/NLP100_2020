{
 "cells": [
  {
   "cell_type": "code",
   "execution_count": 1,
   "metadata": {},
   "outputs": [],
   "source": [
    "from pathlib import Path"
   ]
  },
  {
   "cell_type": "markdown",
   "metadata": {},
   "source": [
    "## 形態素解析結果の読み込み"
   ]
  },
  {
   "cell_type": "code",
   "execution_count": 2,
   "metadata": {},
   "outputs": [
    {
     "name": "stdout",
     "output_type": "stream",
     "text": [
      "{'surface': '吾輩', 'base': '吾輩', 'pos': '名詞', 'pos1': '代名詞'}\n",
      "{'surface': 'は', 'base': 'は', 'pos': '助詞', 'pos1': '係助詞'}\n",
      "{'surface': '猫', 'base': '猫', 'pos': '名詞', 'pos1': '一般'}\n",
      "{'surface': 'で', 'base': 'だ', 'pos': '助動詞', 'pos1': '*'}\n",
      "{'surface': 'ある', 'base': 'ある', 'pos': '助動詞', 'pos1': '*'}\n",
      "{'surface': '。', 'base': '。', 'pos': '記号', 'pos1': '句点'}\n"
     ]
    }
   ],
   "source": [
    "res_mecab = Path(\"neko.txt.mecab\")\n",
    "sentences = []\n",
    "morphs = []\n",
    "\n",
    "with res_mecab.open() as file:\n",
    "  for line in file:\n",
    "    line = line.strip()\n",
    "    if line != \"EOS\":\n",
    "      fields = line.split(\"\\t\")\n",
    "      if len(fields) != 2 or fields[0] == \"\": continue\n",
    "      col = fields[1].split(\",\")\n",
    "      morph = {\"surface\": fields[0], \"base\": col[6], \"pos\": col[0], \"pos1\": col[1]}\n",
    "      morphs.append(morph)\n",
    "    else:\n",
    "      sentences.append(morphs)\n",
    "      morphs = []\n",
    "for morph in sentences[2]:\n",
    "  print(morph)"
   ]
  },
  {
   "cell_type": "markdown",
   "metadata": {},
   "source": [
    "## 動詞と動詞の基本形の抜き出し"
   ]
  },
  {
   "cell_type": "code",
   "execution_count": 3,
   "metadata": {},
   "outputs": [],
   "source": [
    "verbs = set(morph[\"surface\"] for morphs in sentences for morph in morphs\n",
    "            if morph[\"pos\"] == \"動詞\")\n",
    "verb_bases = set(morph[\"base\"] for morphs in sentences for morph in morphs\n",
    "                 if morph[\"pos\"] == \"動詞\")"
   ]
  },
  {
   "cell_type": "markdown",
   "metadata": {},
   "source": [
    "## AのBという形の名詞句を抜き出し"
   ]
  },
  {
   "cell_type": "code",
   "execution_count": 19,
   "metadata": {},
   "outputs": [
    {
     "name": "stdout",
     "output_type": "stream",
     "text": [
      "4924\n",
      "パスカルの事\n",
      "後の今日\n",
      "両者の関係\n",
      "質のもの\n",
      "ところの賞与\n",
      "等の口\n",
      "顔の前\n",
      "当番の時\n",
      "円の羽織\n",
      "地震のよう\n"
     ]
    }
   ],
   "source": [
    "ans = set()\n",
    "for sentence in sentences:\n",
    "  for i in range(1, len(sentence)-2):\n",
    "    if  sentence[i][\"surface\"] == \"の\" and sentence[i-1][\"pos\"] == \"名詞\" and sentence[i+1][\"pos\"] == \"名詞\":\n",
    "      s = sentence[i-1][\"surface\"] + sentence[i][\"surface\"] + sentence[i+1][\"surface\"]\n",
    "      ans.add(s)\n",
    "print(len(ans))\n",
    "for item in list(ans)[:10]:\n",
    "  print(item)"
   ]
  },
  {
   "cell_type": "markdown",
   "metadata": {},
   "source": [
    "## 名詞の連接"
   ]
  },
  {
   "cell_type": "code",
   "execution_count": 21,
   "metadata": {},
   "outputs": [
    {
     "name": "stdout",
     "output_type": "stream",
     "text": [
      "4465\n",
      "六十回\n",
      "五分間\n",
      "ざる化装道具\n",
      "自ら事実\n",
      "頭中\n",
      "猫又殿\n",
      "大分充血\n",
      "二十七銭\n",
      "八木さん\n",
      "アハハハハ別段難\n"
     ]
    }
   ],
   "source": [
    "ans = set()\n",
    "tmp = []\n",
    "for sentence in sentences:\n",
    "  for morph in sentence:\n",
    "    if morph[\"pos\"] == \"名詞\":\n",
    "      tmp.append(morph[\"surface\"])\n",
    "    elif len(tmp) >=2:\n",
    "      ans.add(\"\".join(tmp))\n",
    "      tmp = []\n",
    "    else:\n",
    "      tmp = []\n",
    "print(len(ans))\n",
    "for item in list(ans)[:10]:\n",
    "  print(item)"
   ]
  },
  {
   "cell_type": "markdown",
   "metadata": {},
   "source": [
    "## 単語の出現頻度"
   ]
  },
  {
   "cell_type": "code",
   "execution_count": 43,
   "metadata": {},
   "outputs": [
    {
     "data": {
      "image/png": "[encoded data removed]",
      "text/plain": [
       "<Figure size 432x288 with 1 Axes>"
      ]
     },
     "metadata": {
      "needs_background": "light"
     },
     "output_type": "display_data"
    }
   ],
   "source": [
    "from collections import defaultdict as ddict\n",
    "\n",
    "import matplotlib.pyplot as plt\n",
    "from matplotlib import rcParams\n",
    "rcParams['font.sans-serif'] = ['Hiragino Maru Gothic Pro']\n",
    "\n",
    "word_dic = ddict(int)\n",
    "\n",
    "for sentence in sentences:\n",
    "  for morph in sentence:\n",
    "    if morph[\"pos\"] not in [\"記号\", \"助詞\", \"助動詞\"]:\n",
    "      word_dic[morph[\"surface\"]] += 1\n",
    "\n",
    "word_dic = sorted(word_dic.items(), key=lambda x:x[1], reverse=True)\n",
    "\n",
    "keys = [k for k,_ in word_dic[:10]]\n",
    "values = [v for _,v in word_dic[:10]]\n",
    "\n",
    "plt.bar(keys, values)\n",
    "plt.show()"
   ]
  },
  {
   "cell_type": "code",
   "execution_count": 31,
   "metadata": {},
   "outputs": [
    {
     "ename": "ModuleNotFoundError",
     "evalue": "No module named 'matplotlib'",
     "output_type": "error",
     "traceback": [
      "\u001b[0;31m---------------------------------------------------------------------------\u001b[0m",
      "\u001b[0;31mModuleNotFoundError\u001b[0m                       Traceback (most recent call last)",
      "\u001b[0;32m/var/folders/s6/ms_hbj4s5px68dfd_rrpd9nw0000gn/T/ipykernel_94101/3241883823.py\u001b[0m in \u001b[0;36m<module>\u001b[0;34m\u001b[0m\n\u001b[0;32m----> 1\u001b[0;31m \u001b[0;32mimport\u001b[0m \u001b[0mmatplotlib\u001b[0m\u001b[0;34m.\u001b[0m\u001b[0mpyplot\u001b[0m \u001b[0;32mas\u001b[0m \u001b[0mplt\u001b[0m\u001b[0;34m\u001b[0m\u001b[0;34m\u001b[0m\u001b[0m\n\u001b[0m\u001b[1;32m      2\u001b[0m \u001b[0;34m\u001b[0m\u001b[0m\n",
      "\u001b[0;31mModuleNotFoundError\u001b[0m: No module named 'matplotlib'"
     ]
    }
   ],
   "source": [
    "\n",
    "\n"
   ]
  },
  {
   "cell_type": "code",
   "execution_count": null,
   "metadata": {},
   "outputs": [],
   "source": []
  }
 ],
 "metadata": {
  "interpreter": {
   "hash": "9d025cef11569066d47cefd94875d4dcceaff9eef0516e87b06845fa64e34ab6"
  },
  "kernelspec": {
   "display_name": "Python 3.9.9 64-bit ('venv': venv)",
   "language": "python",
   "name": "python3"
  },
  "language_info": {
   "codemirror_mode": {
    "name": "ipython",
    "version": 3
   },
   "file_extension": ".py",
   "mimetype": "text/x-python",
   "name": "python",
   "nbconvert_exporter": "python",
   "pygments_lexer": "ipython3",
   "version": "3.9.9"
  },
  "orig_nbformat": 4
 },
 "nbformat": 4,
 "nbformat_minor": 2
}
